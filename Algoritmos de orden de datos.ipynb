{
 "cells": [
  {
   "cell_type": "markdown",
   "id": "d8bf89a2",
   "metadata": {},
   "source": [
    "# Algoritmos de ordenación "
   ]
  },
  {
   "cell_type": "markdown",
   "id": "d22182e1",
   "metadata": {},
   "source": [
    "## ordenamiento de burbuja ( Bubble sort)"
   ]
  },
  {
   "cell_type": "markdown",
   "id": "d72494ff",
   "metadata": {},
   "source": [
    "Este algoritmo de clasificación simple itera sobre la lista de datos, comparando elementos \n",
    "en pares hasta que los elementos másgrandes “burbujean” hasta el final de la lista y \n",
    "los más pequeños permanecen al principio.\n",
    "\n",
    "Comienza comparando los dos primeros elementos de la lista, si el primer elemento es mayor \n",
    "que el segundo, los intercambiamos, si no, se quedan como están. Luego pasamos al siguiente\n",
    "par de elementos, los comparamos e intercambiamos si fuera necesario. "
   ]
  },
  {
   "cell_type": "code",
   "execution_count": 9,
   "id": "ee4580f1",
   "metadata": {},
   "outputs": [],
   "source": [
    "def bubbleSort(nums):\n",
    "    #establecemos la variable intercambio en True para entrar en el bucle al menos una vez\n",
    "    intercambio = True \n",
    "    while intercambio:\n",
    "        intercambio = False \n",
    "        for i in range(len(nums) - 1):\n",
    "            if nums[i] > nums[i + 1]:\n",
    "                #intercambiamos los datos\n",
    "                nums[i], nums[i + 1] = nums[i + 1], nums[i]\n",
    "                #cambiamos a True la variable ya que ha habido un intercambio \n",
    "                intercambio = True "
   ]
  },
  {
   "cell_type": "code",
   "execution_count": 11,
   "id": "cf490a93",
   "metadata": {
    "scrolled": true
   },
   "outputs": [
    {
     "name": "stdout",
     "output_type": "stream",
     "text": [
      "[1, 2, 5, 5, 6, 7]\n"
     ]
    }
   ],
   "source": [
    "#Comprobamos el funcionamiento \n",
    "ListaNumerosAleatorios = [5,1,5,6,7,2]\n",
    "bubbleSort(ListaNumerosAleatorios)\n",
    "print(ListaNumerosAleatorios)"
   ]
  },
  {
   "cell_type": "markdown",
   "id": "e3fd1124",
   "metadata": {},
   "source": [
    "## orden de selección (Selection Sort)"
   ]
  },
  {
   "cell_type": "markdown",
   "id": "d97140b4",
   "metadata": {},
   "source": [
    "Este algoritmo separa la lista en dos partes, ordenada y no ordenada. Continuamente \n",
    "“elimina” el elemento más pequeño de la parte sin ordenar y lo agrega a la parte ordenada.\n",
    "\n",
    "Lo que realmente realiza este algoritmo es tratar la parte izquierda de la lista como la\n",
    "parte ordenada buscando en toda la lista el elemento más pequeño y poniéndolo el primero.\n",
    "Después, sabiendo que ya tenemos el elemento más pequeño el primero, buscamos en toda la \n",
    "lista el elemento más pequeño de los restantes sin ordenar y lo intercambiamos con el \n",
    "siguiente ordenado y así hasta acabar con la lista.\n",
    "\n",
    "Cuantos más elementos tengamos ordenados, menos elementos tendremos que examinar."
   ]
  },
  {
   "cell_type": "code",
   "execution_count": 12,
   "id": "c1c1aee4",
   "metadata": {},
   "outputs": [],
   "source": [
    "def selectionsort(nums):\n",
    "    #El valor de i corresponde al numero de datos que se ordenaron \n",
    "    for i in range(len(nums)):\n",
    "        #Entendemos que el primer elemento sin ordenar es el mas pequeño\n",
    "        lowest_value_index = i \n",
    "        #Este bucle trabaja sobre los elementos no clasificados\n",
    "        for j in range(i + 1, len(nums)):\n",
    "            if nums[j] < nums[lowest_value_index]:\n",
    "                lowest_value_index = j \n",
    "        #intercambia el valor del elemento sin ordenar mas bajo\n",
    "        #con el primero sin ordenar\n",
    "        nums[i], nums[lowest_value_index] = nums[lowest_value_index], nums[i]"
   ]
  },
  {
   "cell_type": "code",
   "execution_count": 13,
   "id": "049ed609",
   "metadata": {},
   "outputs": [
    {
     "name": "stdout",
     "output_type": "stream",
     "text": [
      "Lista sin ordenar: [5, 1, 5, 6, 7, 2]\n",
      "Lista ordenada: [1, 2, 5, 5, 6, 7]\n"
     ]
    }
   ],
   "source": [
    "#comprobamos el funcionamiento\n",
    "ListaNumerosAleatorios = [5,1,5,6,7,2]\n",
    "print(\"Lista sin ordenar: \" + str(ListaNumerosAleatorios))\n",
    "selectionsort(ListaNumerosAleatorios)\n",
    "print(\"Lista ordenada: \" + str(ListaNumerosAleatorios))"
   ]
  },
  {
   "cell_type": "markdown",
   "id": "7c54093e",
   "metadata": {},
   "source": [
    "## Tipo de inserción (Insert Sort)"
   ]
  },
  {
   "cell_type": "markdown",
   "id": "fcd5d105",
   "metadata": {},
   "source": [
    "Este algoritmo, al igual que la clasificación por selección, separa la lista en dos partes,\n",
    "ordenadas y no ordenadas. También suponemos que el primer elemento está ordenado, luego \n",
    "pasamos al siguiente elemento que lo vamos a llamar X, comparamos X con el primero, si es\n",
    "mayor, se queda como está pero si es más pequeño, copiamos el primer elemento en la segunda\n",
    "posición e insertamos X como primero."
   ]
  },
  {
   "cell_type": "markdown",
   "id": "790b2d8e",
   "metadata": {},
   "source": [
    "## Tipo de inserción (Insert Sort)"
   ]
  },
  {
   "cell_type": "markdown",
   "id": "4f143a22",
   "metadata": {},
   "source": [
    "Este algoritmo, al igual que la clasificación por selección, separa la lista en dos partes,\n",
    "ordenadas y no ordenadas. También suponemos que el primer elemento está ordenado, luego \n",
    "pasamos al siguiente elemento que lo vamos a llamar X, comparamos X con el primero, si es \n",
    "mayor, se queda como está pero si es más pequeño, copiamos el primer elemento en la segunda\n",
    "posición e insertamos X como primero."
   ]
  },
  {
   "cell_type": "code",
   "execution_count": 14,
   "id": "da7d2586",
   "metadata": {},
   "outputs": [],
   "source": [
    "def insertionSort(nums):\n",
    "    #Entendemos que el primer elemento sin ordenar es el más pequeño\n",
    "    #asi que comenzamos con el segundo\n",
    "    for i in range(1,len(nums)):\n",
    "        item_to_insert = nums[i]\n",
    "        #guardamos en j el indice del elemento anterior\n",
    "        j = i - 1 \n",
    "        #movemos todos los elementos de la lista hacia delante si son mayores que el \n",
    "        #elemento a insertar\n",
    "        while j >= 0 and nums[j] > item_to_insert:\n",
    "            nums[j + 1] = nums[j]\n",
    "            j -= 1 \n",
    "        #instertamos el elemento \n",
    "        nums[j + 1] = item_to_insert"
   ]
  },
  {
   "cell_type": "code",
   "execution_count": 19,
   "id": "c9436b1a",
   "metadata": {},
   "outputs": [
    {
     "name": "stdout",
     "output_type": "stream",
     "text": [
      "Lista sin ordenar: [8, 3, 5, 6, 7, 2]\n",
      "Lista ordenada: [2, 3, 5, 6, 7, 8]\n"
     ]
    }
   ],
   "source": [
    "#comprobamos el funcionamiento\n",
    "ListaNumerosAleatorios = [8,3,5,6,7,2]\n",
    "print(\"Lista sin ordenar: \" + str(ListaNumerosAleatorios))\n",
    "insertionSort(ListaNumerosAleatorios)\n",
    "print(\"Lista ordenada: \" + str(ListaNumerosAleatorios))"
   ]
  },
  {
   "cell_type": "markdown",
   "id": "8349e82f",
   "metadata": {},
   "source": [
    "## Combinar ordenación (Merge Sort)"
   ]
  },
  {
   "cell_type": "markdown",
   "id": "cd25335d",
   "metadata": {},
   "source": [
    "Este algoritmo comienza dividiendo la lista en dos, luego esas dos mitades en 4 y así \n",
    "sucesivamente hasta que tengamos listas de un elemento de longitud. Después, estos \n",
    "elementos se vuelven a unir en orden. Primero fusionaremos los elementos individuales en\n",
    "pares de nuevo ordenándolos entre sí, luego seguiremos ordenándolos en grupos hasta que\n",
    "tengamos una sola lista ordenada."
   ]
  },
  {
   "cell_type": "code",
   "execution_count": 16,
   "id": "ea87f0ca",
   "metadata": {},
   "outputs": [],
   "source": [
    "def merge(left_list, right_list):\n",
    "    sorted_list = []\n",
    "    left_list_index = right_list_index = 0\n",
    "    #creamos variables para las longitudes de la lista\n",
    "    left_list_length, right_list_length = len(left_list), len(right_list)\n",
    "    \n",
    "    for _ in range (left_list_length + right_list_length):\n",
    "        if left_list_index < left_list_length and right_list_index < right_list_length:\n",
    "            #comprobamos el valor de cada elemento inicial de las listas para ver cual es \n",
    "            #menor. Si el elemento al principio de la lista izquierda es mas pequeño, \n",
    "            #se añade a la lista ordenada.\n",
    "            if left_list[left_list_index] <= right_list[right_list_index]:\n",
    "                sorted_list.append(left_list[left_list_index])\n",
    "                left_list_index += 1 \n",
    "            # si el elemento al principio de la lista de la derecha es más pequeño, \n",
    "            #se añade a la lista ordenada \n",
    "            else:\n",
    "                sorted_list.append(right_list[right_list_index])\n",
    "                right_list_index += 1\n",
    "                \n",
    "         #si llegamos al final de la lista de la izquierda, añadimos los elementos de la\n",
    "        #lista de la derecha\n",
    "        elif left_list_index == left_list_length:\n",
    "            sorted_list.append(right_list[right_list_index])\n",
    "            right_list_index += 1\n",
    "        #si llegamos al final de la lista de la derecha, añadimos los elementos de la \n",
    "        #de la izquierda \n",
    "        elif right_list_index == right_list_length:\n",
    "            sorted_list.append(left_list[left_list_index])\n",
    "            left_list_index += 1\n",
    "            \n",
    "    return sorted_list  \n",
    "\n",
    "def mergeSort(nums):\n",
    "    # Si la lista tiene un solo elemento, devuelvelo \n",
    "    if len(nums) <= 1:\n",
    "        return nums \n",
    "    #obtenemos el indice medio para separar la lista en dos\n",
    "    mid = len(nums) // 2 \n",
    "    #ordenamos y fusionamos cada mitad \n",
    "    left_list = mergeSort(nums[:mid])\n",
    "    right_list = mergeSort(nums[mid:])\n",
    "    #Fusionamos las listas ordenadas en una nueva ordenada \n",
    "    return merge(left_list,right_list)"
   ]
  },
  {
   "cell_type": "code",
   "execution_count": 17,
   "id": "b160896f",
   "metadata": {},
   "outputs": [
    {
     "name": "stdout",
     "output_type": "stream",
     "text": [
      "Lista sin ordenar: [5, 1, 5, 6, 7, 2]\n",
      "Lista ordenada: [1, 2, 5, 5, 6, 7]\n"
     ]
    }
   ],
   "source": [
    "#comprobamos el funcionamiento\n",
    "ListaNumerosAleatorios = [5,1,5,6,7,2]\n",
    "print(\"Lista sin ordenar: \" + str(ListaNumerosAleatorios))\n",
    "ListaNumerosAleatorios = mergeSort(ListaNumerosAleatorios)\n",
    "print(\"Lista ordenada: \" + str(ListaNumerosAleatorios))"
   ]
  },
  {
   "cell_type": "markdown",
   "id": "26677566",
   "metadata": {},
   "source": [
    "El hecho de que la información está ordenada, nos sirve para poder encontrarla y \n",
    "accesarla de manera más eficiente ya que delo contrario se tendría que hacer de manera \n",
    "secuencial."
   ]
  },
  {
   "cell_type": "markdown",
   "id": "b4b64e31",
   "metadata": {},
   "source": [
    "Un \"buen algoritmo\" de\n",
    "ordenamiento requiere de un orden nlogn\n",
    "comparaciones.\n",
    "\n",
    "Ordenar una lista de elementos en orden ascendente o descendente puede ayudarle a un ser \n",
    "humano o a una computadora a encontrar elementos rápidamente en esa lista, tal vez al usar\n",
    "un algoritmo como una búsqueda binaria."
   ]
  }
 ],
 "metadata": {
  "kernelspec": {
   "display_name": "Python 3 (ipykernel)",
   "language": "python",
   "name": "python3"
  },
  "language_info": {
   "codemirror_mode": {
    "name": "ipython",
    "version": 3
   },
   "file_extension": ".py",
   "mimetype": "text/x-python",
   "name": "python",
   "nbconvert_exporter": "python",
   "pygments_lexer": "ipython3",
   "version": "3.9.7"
  }
 },
 "nbformat": 4,
 "nbformat_minor": 5
}
