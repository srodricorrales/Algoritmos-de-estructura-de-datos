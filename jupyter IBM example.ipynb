{
 "cells": [
  {
   "cell_type": "markdown",
   "id": "d495792f",
   "metadata": {},
   "source": [
    "# My Jupyter Notebook on IBM Watson Studio"
   ]
  },
  {
   "cell_type": "markdown",
   "id": "17e28d1b",
   "metadata": {},
   "source": [
    "I'm Sebastian Rodriguez, \n",
    "I would like to be a data scientist with data engineer knowledge as well-"
   ]
  },
  {
   "cell_type": "markdown",
   "id": "23a2debc",
   "metadata": {},
   "source": [
    "I'm interested in Data Science because we are living the fourth industry revolutionary\n",
    "with all the process and Data been stored, so here I'm going to change the value of \n",
    "any company of organization to Data Driven.\n"
   ]
  },
  {
   "cell_type": "markdown",
   "id": "3db791d8",
   "metadata": {},
   "source": [
    "## Bubblesort algorithm for sort a list of elements in ascending order"
   ]
  },
  {
   "cell_type": "code",
   "execution_count": 2,
   "id": "93e03ea5",
   "metadata": {},
   "outputs": [
    {
     "name": "stdout",
     "output_type": "stream",
     "text": [
      "[1, 2, 5, 5, 6, 7]\n"
     ]
    }
   ],
   "source": [
    "def bubbleSort(nums):\n",
    "    #We put the condition by the object enters the cycle.\n",
    "    intercambio = True \n",
    "    while intercambio:\n",
    "        intercambio = False \n",
    "        for i in range(len(nums) - 1):\n",
    "            if nums[i] > nums[i + 1]:\n",
    "                #Swap values\n",
    "                nums[i], nums[i + 1] = nums[i + 1], nums[i]\n",
    "                #After swaping the boolean takes True value\n",
    "                intercambio = True \n",
    "                \n",
    "ListaNumerosAleatorios = [5,1,5,6,7,2] # Here is an example for a list\n",
    "bubbleSort(ListaNumerosAleatorios)\n",
    "print(ListaNumerosAleatorios)                "
   ]
  },
  {
   "cell_type": "code",
   "execution_count": null,
   "id": "5ce14692",
   "metadata": {},
   "outputs": [],
   "source": [
    "look for my githubb for my used algorythms for sorting based on the example\n",
    "https://github.com/srodricorrales/Algoritmos-de-estructura-de-datos/blob/76543175dd7ad314aa80902df5bc003aa1d41864/Algoritmos%20de%20orden%20de%20datos.ipynb"
   ]
  }
 ],
 "metadata": {
  "kernelspec": {
   "display_name": "Python 3 (ipykernel)",
   "language": "python",
   "name": "python3"
  },
  "language_info": {
   "codemirror_mode": {
    "name": "ipython",
    "version": 3
   },
   "file_extension": ".py",
   "mimetype": "text/x-python",
   "name": "python",
   "nbconvert_exporter": "python",
   "pygments_lexer": "ipython3",
   "version": "3.9.7"
  }
 },
 "nbformat": 4,
 "nbformat_minor": 5
}
